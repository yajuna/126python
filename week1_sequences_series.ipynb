{
 "cells": [
  {
   "cell_type": "markdown",
   "id": "f9dbd165",
   "metadata": {},
   "source": [
    "# In this notebook, we look at some examples of sequences and series. We will also use this notebook as an introduction to Jupyter notebook and Python3."
   ]
  },
  {
   "cell_type": "code",
   "execution_count": 1,
   "id": "fef9f242",
   "metadata": {},
   "outputs": [
    {
     "name": "stdout",
     "output_type": "stream",
     "text": [
      "1.22.3 \n",
      " 1.8.0 \n",
      " 3.5.1\n"
     ]
    }
   ],
   "source": [
    "## import packages, and conventional abbrev.\n",
    "import numpy as np\n",
    "import scipy as sp\n",
    "import matplotlib \n",
    "import matplotlib.pyplot as plt\n",
    "\n",
    "## for math display\n",
    "from IPython.display import display, Markdown\n",
    "\n",
    "## check versions of above packages\n",
    "print(np.version.version,\"\\n\", sp.__version__,\"\\n\", matplotlib.__version__)"
   ]
  },
  {
   "cell_type": "markdown",
   "id": "2eae0a47",
   "metadata": {},
   "source": [
    "## We look at some examples of sequences and their convergence."
   ]
  },
  {
   "cell_type": "markdown",
   "id": "f950dc17",
   "metadata": {},
   "source": [
    "### Example1: We have sequences in Calculus 2- consider the $n$-th Riemann sum of a function $f(x)$ on the interval $[a,b]$, $A_n = \\sum^{n-1}_{i=0}f(a + i\\Delta x)\\Delta x$. When $n\\to \\infty$, the Riemann sum should get closer and closer to the definite integral $\\int^b_af(x)\\ dx$. \n",
    "\n",
    "Let $f(x)=x$, and $[a,b]=[0,2]$. We know $\\int^2_0 f(x)\\ dx = 2$, and we will investigate a sequence of Riemann sums $A_n$ that sum over $n$ items."
   ]
  },
  {
   "cell_type": "code",
   "execution_count": 2,
   "id": "0ef3d49d",
   "metadata": {},
   "outputs": [
    {
     "data": {
      "text/markdown": [
       "\n",
       "$\\int^2_0x\\ dx = $\n"
      ],
      "text/plain": [
       "<IPython.core.display.Markdown object>"
      ]
     },
     "metadata": {},
     "output_type": "display_data"
    },
    {
     "data": {
      "text/plain": [
       "2.0"
      ]
     },
     "metadata": {},
     "output_type": "display_data"
    }
   ],
   "source": [
    "# First compute the integral with the Trapezoid rule\n",
    "a = 0\n",
    "b = 2\n",
    "n = 50\n",
    "x = np.linspace(a, b, n)\n",
    "f = x\n",
    "I_trapz = np.trapz(f,x)\n",
    "\n",
    "display(Markdown(\n",
    "   rf\"\"\"\n",
    "$\\int^2_0x\\ dx = $\n",
    "\"\"\"), I_trapz)"
   ]
  },
  {
   "cell_type": "code",
   "execution_count": 3,
   "id": "08b736d5",
   "metadata": {},
   "outputs": [],
   "source": [
    "# Define the n-th Riemann sum\n",
    "\n",
    "def riemann(f,a,b,n, endpoint = 0):\n",
    "    x = np.linspace(a,b,n)\n",
    "    y = f(x)\n",
    "    dx = x[1] - x[0]\n",
    "    riemann_sum = 0\n",
    "    for j in range(n):\n",
    "        riemann_sum += f(x[j] + dx * endpoint) * dx\n",
    "    return riemann_sum"
   ]
  },
  {
   "cell_type": "code",
   "execution_count": 4,
   "id": "e3bf380c",
   "metadata": {},
   "outputs": [
    {
     "name": "stdout",
     "output_type": "stream",
     "text": [
      "The  5000 -th Riemann sum is 2.000400080016003\n"
     ]
    }
   ],
   "source": [
    "f = lambda x : x\n",
    "n = 5000\n",
    "x = np.linspace(0,2,5000)\n",
    "A_n = riemann(f,0,2,5000, endpoint = 0)\n",
    "print(\"The \", n, \"-th Riemann sum is\", A_n)"
   ]
  },
  {
   "cell_type": "code",
   "execution_count": 5,
   "id": "ccae4cc3",
   "metadata": {},
   "outputs": [],
   "source": [
    "steps = [n for n in range(50,int(5e3), 50)]\n",
    "Rsums = [riemann(f,0,2,n, endpoint = 0) for n in steps]   "
   ]
  },
  {
   "cell_type": "code",
   "execution_count": 6,
   "id": "27d1cde7",
   "metadata": {},
   "outputs": [
    {
     "data": {
      "text/plain": [
       "Text(0.5, 1.0, 'Riemann Sum as a function of n')"
      ]
     },
     "execution_count": 6,
     "metadata": {},
     "output_type": "execute_result"
    },
    {
     "data": {
      "image/png": "[encoded data removed]",
      "text/plain": [
       "<Figure size 360x360 with 1 Axes>"
      ]
     },
     "metadata": {
      "needs_background": "light"
     },
     "output_type": "display_data"
    }
   ],
   "source": [
    "# visualize\n",
    "plt.figure(figsize=(5,5))\n",
    "plt.plot(steps,Rsums,'b.',markersize=10)\n",
    "plt.plot(steps,2*np.ones(len(steps)),'k.',markersize=5)\n",
    "plt.xlabel('Number of intervals n')\n",
    "plt.ylabel('Approx value of integral')\n",
    "plt.title('Riemann Sum as a function of n')"
   ]
  },
  {
   "cell_type": "markdown",
   "id": "bb7fc51a",
   "metadata": {},
   "source": [
    "### Example2: Consider the improper integral $\\int^{\\infty}_0\\frac{1}{x^2+1}\\ dx$, and consider the sequence $a_n=\\int^n_0\\frac{1}{x^2+1}\\ dx$. If the improper integral converges, the limit $\\lim_{n\\to\\infty}a_n$ should exist. We look at the sequence $a_n$. "
   ]
  },
  {
   "cell_type": "code",
   "execution_count": 7,
   "id": "f3aea2bb",
   "metadata": {},
   "outputs": [
    {
     "data": {
      "text/plain": [
       "Text(0.5, 1.0, 'Integral as a function of n')"
      ]
     },
     "execution_count": 7,
     "metadata": {},
     "output_type": "execute_result"
    },
    {
     "data": {
      "image/png": "[encoded data removed]",
      "text/plain": [
       "<Figure size 360x360 with 1 Axes>"
      ]
     },
     "metadata": {
      "needs_background": "light"
     },
     "output_type": "display_data"
    }
   ],
   "source": [
    "f = lambda x : 1/(x**2 + 1)\n",
    "\n",
    "ranges = [n for n in range(1, int(5e3), 50)]\n",
    "Rsums1 = [riemann(f,0,n,50 * n, endpoint = 0.5) for n in ranges] \n",
    "\n",
    "plt.figure(figsize=(5,5))\n",
    "plt.plot(ranges[1:],Rsums1[1:],'b.',markersize=10)\n",
    "plt.plot(ranges[1:],np.pi/2*np.ones(len(ranges))[1:],'k.',markersize=5)\n",
    "plt.xlabel('Interval from 0 to n')\n",
    "plt.ylabel('Approx value of integral')\n",
    "plt.title('Integral as a function of n')\n",
    "\n",
    "# experiment with endpoint = 0, 0.5, and 1 (left, middle, and right endpoint)"
   ]
  },
  {
   "cell_type": "markdown",
   "id": "8c855975",
   "metadata": {},
   "source": [
    "### Example3: We look at two ways to define a sequence (other than listing)\n",
    "1. Formula definition: $a_n = f(n)$\n",
    "2. Recursive definition: $a_n = f(a_{n-1})$"
   ]
  },
  {
   "cell_type": "code",
   "execution_count": 8,
   "id": "774c1078",
   "metadata": {},
   "outputs": [],
   "source": [
    "# define a sequence as a function of n: 1/n * (-1)**n\n",
    "def seq_formula(n):\n",
    "    return 1/n * (-1)**n"
   ]
  },
  {
   "cell_type": "code",
   "execution_count": 9,
   "id": "d6b2de09",
   "metadata": {},
   "outputs": [
    {
     "data": {
      "text/plain": [
       "Text(0.5, 1.0, '$a_n = f(n)$')"
      ]
     },
     "execution_count": 9,
     "metadata": {},
     "output_type": "execute_result"
    },
    {
     "data": {
      "image/png": "[encoded data removed]",
      "text/plain": [
       "<Figure size 360x360 with 1 Axes>"
      ]
     },
     "metadata": {
      "needs_background": "light"
     },
     "output_type": "display_data"
    }
   ],
   "source": [
    "list_range = [n for n in range(1,int(5e3))]\n",
    "seq = [seq_formula(n) for n in list_range] \n",
    "\n",
    "plt.figure(figsize=(5,5))\n",
    "plt.plot(list_range[50:],seq[50:],'b.',markersize=1)\n",
    "plt.plot(list_range[50:],0 * np.ones(len(list_range))[50:],'k.',markersize=1)\n",
    "plt.xlabel('n')\n",
    "plt.ylabel('$a_n$')\n",
    "plt.title('$a_n = f(n)$')"
   ]
  },
  {
   "cell_type": "code",
   "execution_count": 10,
   "id": "345f0abf",
   "metadata": {},
   "outputs": [
    {
     "data": {
      "text/plain": [
       "Text(0.5, -0.25, 'Example of a Lucas sequence-Fibonacci sequence')"
      ]
     },
     "execution_count": 10,
     "metadata": {},
     "output_type": "execute_result"
    },
    {
     "data": {
      "image/png": "[encoded data removed]",
      "text/plain": [
       "<Figure size 360x360 with 1 Axes>"
      ]
     },
     "metadata": {
      "needs_background": "light"
     },
     "output_type": "display_data"
    }
   ],
   "source": [
    "# define a sequence recursively\n",
    "def seq_formula1(a0, a1):\n",
    "    return a0 + a1\n",
    "\n",
    "x = [n for n in range(0,int(5e3))]\n",
    "f = [1,1]\n",
    "for j in range(2, n):\n",
    "    f.append(f[j-1]+f[j-2])\n",
    "\n",
    "plt.figure(figsize=(5,5))\n",
    "plt.plot(x[:50],f[:50],'b.',markersize=1)\n",
    "\n",
    "plt.xlabel('n')\n",
    "plt.ylabel('$a_n$')\n",
    "plt.title('Example of a Lucas sequence-Fibonacci sequence',y=-0.25)\n",
    "\n",
    "# # Alternate form and test\n",
    "# def F(k):\n",
    "#     if k == 0:\n",
    "#         return 0\n",
    "#     elif k == 1:\n",
    "#         return 1\n",
    "#     else:\n",
    "#         return F(k-1)+F(k-2)\n",
    "    \n",
    "# [F(n) for n in range(12)]"
   ]
  },
  {
   "cell_type": "markdown",
   "id": "9f17347a",
   "metadata": {},
   "source": [
    "## We study series $\\sum^{\\infty}_{i=1}a_i$ by studying the sequence of the partial sums $S_n = \\sum^{n}_{i=1}a_i$. If the sequence of the partial sum converges, we say the series converges."
   ]
  },
  {
   "cell_type": "code",
   "execution_count": 11,
   "id": "2b70e032",
   "metadata": {},
   "outputs": [
    {
     "data": {
      "text/plain": [
       "Text(0.5, 1.0, 'Sequence of partial sum for $\\\\sum^{\\\\infty}_0 1/2^n$')"
      ]
     },
     "execution_count": 11,
     "metadata": {},
     "output_type": "execute_result"
    },
    {
     "data": {
      "image/png": "[encoded data removed]",
      "text/plain": [
       "<Figure size 360x360 with 1 Axes>"
      ]
     },
     "metadata": {
      "needs_background": "light"
     },
     "output_type": "display_data"
    }
   ],
   "source": [
    "# Example of a convergent series\n",
    "f = lambda n : 1/2**n\n",
    "n = [i for i in range(0,int(5e3))]\n",
    "partial_sum = [0]\n",
    "for i in n:\n",
    "    partial_sum.append(partial_sum[-1] + f(i))\n",
    "\n",
    "plt.figure(figsize=(5,5))\n",
    "plt.plot(n,partial_sum[1:],'b.',markersize=1)\n",
    "\n",
    "plt.xlabel('n')\n",
    "plt.ylabel('$S_n$')\n",
    "plt.title('Sequence of partial sum for $\\sum^{\\infty}_0 1/2^n$')#,y=-0.25)\n"
   ]
  },
  {
   "cell_type": "code",
   "execution_count": 14,
   "id": "cbbcb0ee",
   "metadata": {},
   "outputs": [
    {
     "data": {
      "text/plain": [
       "Text(0.5, 1.0, 'Sequence of partial sum for $\\\\sum^{\\\\infty}_1 1/n$')"
      ]
     },
     "execution_count": 14,
     "metadata": {},
     "output_type": "execute_result"
    },
    {
     "data": {
      "image/png": "[encoded data removed]",
      "text/plain": [
       "<Figure size 360x360 with 1 Axes>"
      ]
     },
     "metadata": {
      "needs_background": "light"
     },
     "output_type": "display_data"
    }
   ],
   "source": [
    "# Example of a (not obviously) divergent series\n",
    "f = lambda n : 1/n\n",
    "n = [i for i in range(1,int(5e7))]\n",
    "partial_sum = [1]\n",
    "for i in n:\n",
    "    partial_sum.append(partial_sum[-1] + f(i))\n",
    "\n",
    "plt.figure(figsize=(5,5))\n",
    "plt.plot(n,partial_sum[1:],'b.',markersize=1)\n",
    "\n",
    "plt.xlabel('n')\n",
    "plt.ylabel('$S_n$')\n",
    "plt.title('Sequence of partial sum for $\\sum^{\\infty}_1 1/n$')#,y=-0.25)\n",
    "# experiment with 5e3, 5e4, 5e5. STOP at 5e7"
   ]
  },
  {
   "cell_type": "code",
   "execution_count": null,
   "id": "37cbc0a1",
   "metadata": {},
   "outputs": [],
   "source": []
  }
 ],
 "metadata": {
  "kernelspec": {
   "display_name": "Python 3 (ipykernel)",
   "language": "python",
   "name": "python3"
  },
  "language_info": {
   "codemirror_mode": {
    "name": "ipython",
    "version": 3
   },
   "file_extension": ".py",
   "mimetype": "text/x-python",
   "name": "python",
   "nbconvert_exporter": "python",
   "pygments_lexer": "ipython3",
   "version": "3.8.10"
  }
 },
 "nbformat": 4,
 "nbformat_minor": 5
}
