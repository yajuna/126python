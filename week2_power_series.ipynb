{
 "cells": [
  {
   "cell_type": "markdown",
   "metadata": {},
   "source": [
    "# In this notebook, we play with power series and study the convergence of them."
   ]
  },
  {
   "cell_type": "code",
   "execution_count": null,
   "metadata": {},
   "outputs": [],
   "source": [
    "## import packages, and conventional abbrev.\n",
    "import numpy as np\n",
    "import scipy as sp\n",
    "from scipy.interpolate import interp1d\n",
    "import matplotlib \n",
    "import matplotlib.pyplot as plt\n",
    "\n",
    "## for math display\n",
    "from IPython.display import display, Markdown"
   ]
  },
  {
   "cell_type": "markdown",
   "metadata": {},
   "source": [
    "## You already know that $\\sum^{\\infty}_{n=0}x^n=\\frac{1}{1-x}$, for $|x|<1$. Although we can't definite \"infinity\" computationally, we can define a partial sum for a large $N$, and look at how it behaves to gain some intuition for when $N\\to\\infty$."
   ]
  },
  {
   "cell_type": "code",
   "execution_count": null,
   "metadata": {},
   "outputs": [],
   "source": [
    "# define a geometric power series \n",
    "\n",
    "f = lambda x, N: sum([x**n for n in range(N)])"
   ]
  },
  {
   "cell_type": "code",
   "execution_count": null,
   "metadata": {},
   "outputs": [],
   "source": [
    "# test the convergence for |x|<1, and |x|>=1.\n",
    "\n",
    "NN = 50\n",
    "\n",
    "x = 0.5\n",
    "f_small = []\n",
    "for N in range(NN):\n",
    "    f_small.append(f(x,N))\n",
    "\n",
    "X = 1.1\n",
    "f_large = []\n",
    "for N in range(NN):\n",
    "    f_large.append(f(X,N))   "
   ]
  },
  {
   "cell_type": "code",
   "execution_count": null,
   "metadata": {},
   "outputs": [],
   "source": [
    "# visualize\n",
    "\n",
    "steps = [n for n in range(NN)]\n",
    "\n",
    "\n",
    "plt.figure(figsize = (10,5))\n",
    "fig1 = plt.subplot(1,2,1)\n",
    "plt.plot(steps,f_small,'b.',markersize=3)\n",
    "plt.xlabel('Number of terms in the partial sum')\n",
    "plt.ylabel('$N$-th partial sum with $|x|<1$')\n",
    "\n",
    "fig2 = plt.subplot(1,2,2)\n",
    "plt.plot(steps,f_large,'b.',markersize=3)\n",
    "plt.xlabel('Number of terms in the partial sum')\n",
    "plt.ylabel('$N$-th partial sum with $|x|>1$')\n",
    "\n",
    "plt.tight_layout()\n",
    "plt.show()"
   ]
  },
  {
   "cell_type": "code",
   "execution_count": null,
   "metadata": {},
   "outputs": [],
   "source": [
    "# test when x = 1 or -1\n",
    "\n",
    "f_1 = []  \n",
    "\n",
    "for N in range(NN):\n",
    "    f_1.append(f(1,N))\n",
    "    \n",
    "f_negative1 = []  \n",
    "for N in range(NN):\n",
    "    f_negative1.append(f(-1,N)) "
   ]
  },
  {
   "cell_type": "code",
   "execution_count": null,
   "metadata": {},
   "outputs": [],
   "source": [
    "plt.figure(figsize = (10,5))\n",
    "fig3 = plt.subplot(1,2,1)\n",
    "plt.plot(steps,f_1,'b.',markersize=3)\n",
    "plt.xlabel('Number of terms in the partial sum')\n",
    "plt.ylabel('$N$-th partial sum with $x=1$')\n",
    "\n",
    "fig4 = plt.subplot(1,2,2)\n",
    "plt.plot(steps,f_negative1,'b.',markersize=3)\n",
    "plt.xlabel('Number of terms in the partial sum')\n",
    "plt.ylabel('$N$-th partial sum with $x=-1$')\n",
    "\n",
    "plt.tight_layout()\n",
    "plt.show()"
   ]
  },
  {
   "cell_type": "code",
   "execution_count": null,
   "metadata": {},
   "outputs": [],
   "source": [
    "# test with negative x and X\n",
    "\n",
    "f_negative_small = []\n",
    "for N in range(NN):\n",
    "    f_negative_small.append(f(-x,N))\n",
    "\n",
    "f_negative_large = []\n",
    "for N in range(NN):\n",
    "    f_negative_large.append(f(-X,N)) "
   ]
  },
  {
   "cell_type": "code",
   "execution_count": null,
   "metadata": {},
   "outputs": [],
   "source": [
    "# visualize\n",
    "steps_curve = np.linspace(steps[0], steps[-1],5000)\n",
    "f_curve_negative_small = interp1d(steps, f_negative_small, kind='quadratic')\n",
    "f_smooth_negative_small=f_curve_negative_small(steps_curve)\n",
    "\n",
    "f_curve_negative_large = interp1d(steps, f_negative_large, kind='quadratic')\n",
    "f_smooth_negative_large=f_curve_negative_large(steps_curve)\n",
    "\n",
    "plt.figure(figsize = (10,5))\n",
    "fig5 = plt.subplot(1,2,1)\n",
    "plt.plot(steps,f_negative_small,'bo',markersize=3)\n",
    "#plt.plot (steps_curve,f_smooth_negative_small, 'k')\n",
    "plt.xlabel('Number of terms in the partial sum')\n",
    "plt.ylabel('$N$-th partial sum with $|x|<1$, and $x$ is negative')\n",
    "\n",
    "fig6 = plt.subplot(1,2,2)\n",
    "plt.plot(steps,f_negative_large,'bo',markersize=3)\n",
    "#plt.plot (steps_curve,f_smooth_negative_large, 'k')\n",
    "plt.xlabel('Number of terms in the partial sum')\n",
    "plt.ylabel('$N$-th partial sum with $|x|>1$, and $x$ is negative')\n",
    "\n",
    "plt.tight_layout()\n",
    "plt.show()"
   ]
  },
  {
   "cell_type": "markdown",
   "metadata": {},
   "source": [
    "## We look at how term-wise differentiation might change the convergence or divergence. Integrate each term in $\\sum^{\\infty}_{n=0}x^n$, we get $\\sum^{\\infty}_{n=0}\\frac{1}{n+1}x^n$; differentiate each term and we get $\\sum^{\\infty}_{n=0}(n+1)x^n$."
   ]
  },
  {
   "cell_type": "code",
   "execution_count": null,
   "metadata": {},
   "outputs": [],
   "source": [
    "f_int = lambda x, N: sum([1/(n+1)*x**n for n in range(N)])\n",
    "f_diff = lambda x, N: sum([(n+1)*x**n for n in range(N)])"
   ]
  },
  {
   "cell_type": "code",
   "execution_count": null,
   "metadata": {},
   "outputs": [],
   "source": [
    "f_int_negative_large = []\n",
    "for N in range(NN):\n",
    "    f_int_negative_large.append(f_int(-X,N))\n",
    "\n",
    "f_diff_small = []\n",
    "for N in range(NN):\n",
    "    f_diff_small.append(f_diff(x,N)) \n",
    "    \n",
    "plt.figure(figsize = (10,5))\n",
    "fig7 = plt.subplot(1,2,1)\n",
    "plt.plot(steps,f_int_negative_large,'bo',markersize=3)\n",
    "plt.xlabel('Number of terms in the partial sum')\n",
    "plt.ylabel('Integral of $N$-th partial sum with $|x|>1$, and $x$ is negative')\n",
    "\n",
    "fig8 = plt.subplot(1,2,2)\n",
    "plt.plot(steps,f_diff_small,'bo',markersize=3)\n",
    "plt.xlabel('Number of terms in the partial sum')\n",
    "plt.ylabel('Derivative of $N$-th partial sum with $|x|<1$, and $x$ is positive')\n",
    "\n",
    "plt.tight_layout()\n",
    "plt.show()    "
   ]
  },
  {
   "cell_type": "code",
   "execution_count": null,
   "metadata": {},
   "outputs": [],
   "source": []
  }
 ],
 "metadata": {
  "kernelspec": {
   "display_name": "Python 3",
   "language": "python",
   "name": "python3"
  },
  "language_info": {
   "codemirror_mode": {
    "name": "ipython",
    "version": 3
   },
   "file_extension": ".py",
   "mimetype": "text/x-python",
   "name": "python",
   "nbconvert_exporter": "python",
   "pygments_lexer": "ipython3",
   "version": "3.7.4"
  }
 },
 "nbformat": 4,
 "nbformat_minor": 5
}
