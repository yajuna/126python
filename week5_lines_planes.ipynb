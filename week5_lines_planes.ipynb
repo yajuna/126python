{
 "cells": [
  {
   "cell_type": "markdown",
   "metadata": {},
   "source": [
    "# In this notebook, we play with 3D geometric shapes. We will look at points, lines (plotted by parametric equations), and planes. You can find more details and examples here: \n",
    "### https://likegeeks.com/3d-plotting-in-python/"
   ]
  },
  {
   "cell_type": "code",
   "execution_count": null,
   "metadata": {},
   "outputs": [],
   "source": [
    "## import packages, and conventional abbrev.\n",
    "import numpy as np\n",
    "import scipy as sp\n",
    "import matplotlib \n",
    "import matplotlib.pyplot as plt\n",
    "\n",
    "## for math display\n",
    "from IPython.display import display, Markdown\n",
    "\n",
    "from mpl_toolkits.mplot3d import Axes3D # for 3D coordinates\n",
    "%matplotlib notebook"
   ]
  },
  {
   "cell_type": "markdown",
   "metadata": {},
   "source": [
    "## We first plot points, given by the 3d coordinates of the point. Below we see the points (-2, 3, 5) and (1, -4, 7)."
   ]
  },
  {
   "cell_type": "code",
   "execution_count": null,
   "metadata": {},
   "outputs": [],
   "source": [
    "# Plot 3D coordinates \n",
    "fig = plt.figure(figsize=(4,4))\n",
    "\n",
    "ax = fig.add_subplot(111, projection='3d')\n",
    "\n",
    "ax.scatter(-2,3,5, marker=\"x\", c=\"red\") # plot the point (-2, 3, 5) on the figure\n",
    "ax.scatter(1, -4, 7, marker=\"o\", c=\"green\") # plot the point 1, -4, 7 on the figure\n",
    "\n",
    "# configure plots\n",
    "ax.set_xlim(-10,10)\n",
    "\n",
    "ax.set_ylim(-10,10)\n",
    "\n",
    "ax.set_zlim(-10,10)\n",
    "\n",
    "ax.set_title(\"3D plots of points\")\n",
    "\n",
    "ax.set_xlabel(\"x-axis\")\n",
    "\n",
    "ax.set_ylabel(\"y-axis\")\n",
    "\n",
    "ax.set_zlabel(\"z-axis\")\n",
    "\n",
    "plt.show()"
   ]
  },
  {
   "cell_type": "markdown",
   "metadata": {},
   "source": [
    "## Lines are plotted conveniently with the parametric equations. Generally, we can use parametric to plot curves in 3D. "
   ]
  },
  {
   "cell_type": "code",
   "execution_count": null,
   "metadata": {},
   "outputs": [],
   "source": [
    "# define parameter\n",
    "time = np.linspace(-3,4, 50)\n",
    "\n",
    "xline = 2 - 1 * time\n",
    "yline = 3 + 2 * time\n",
    "zline = 3 * time\n",
    "\n",
    "\n",
    "x_curve = time\n",
    "y_curve = time\n",
    "z_curve = x_curve**2 + y_curve**2\n",
    "\n",
    "fig = plt.figure()\n",
    "\n",
    "ax = fig.add_subplot(111, projection='3d')\n",
    "\n",
    "ax.plot(xline,yline,zline, c = \"blue\")\n",
    "ax.plot(x_curve,y_curve,z_curve, c = \"red\")\n",
    "\n",
    "ax.set_xlim(-4,4)\n",
    "\n",
    "ax.set_ylim(-4,4)\n",
    "\n",
    "ax.set_zlim(0,20)\n",
    "\n",
    "ax.set_title(\"3D plots of curves\")\n",
    "\n",
    "ax.set_xlabel(\"x-axis\")\n",
    "\n",
    "ax.set_ylabel(\"y-axis\")\n",
    "\n",
    "ax.set_zlabel(\"z-axis\")\n",
    "\n",
    "plt.show()"
   ]
  },
  {
   "cell_type": "markdown",
   "metadata": {},
   "source": [
    "## We can also plot planes in 3D, and more generally surfaces. For these plots, we will need to \"mesh\" the variables x and y together.  "
   ]
  },
  {
   "cell_type": "code",
   "execution_count": null,
   "metadata": {},
   "outputs": [],
   "source": [
    "x = np.linspace(-6, 6, 50)\n",
    "y = np.linspace(-6, 6, 50)\n",
    "X,Y = np.meshgrid(x, y)\n",
    "\n",
    "# define a plane \n",
    "def plane(x,y):\n",
    "    return 2*x + 3*y - 5\n",
    "\n",
    "# define a surface- note the differences between curves and surfaces\n",
    "def surface(x,y):\n",
    "    return x **2 + y **2\n",
    "\n",
    "z_plane = plane(X,Y)\n",
    "z_surface = surface(X,Y)\n",
    "\n",
    "fig = plt.figure()\n",
    "ax = fig.add_subplot(111, projection='3d')\n",
    "\n",
    "ax.plot_surface(X,Y, z_plane, cmap='viridis')\n",
    "ax.plot_surface(X,Y, z_surface, cmap='magma')\n",
    "\n",
    "ax.set_xlim(-6, 6)\n",
    "ax.set_ylim(-6, 6)\n",
    "ax.set_zlim(-6, 20)\n",
    "\n",
    "ax.set_title(\"3D plots of plane and surface\")\n",
    "\n",
    "ax.set_xlabel(\"x-axis\")\n",
    "ax.set_ylabel(\"y-axis\")\n",
    "ax.set_zlabel(\"z-axis\")\n",
    "\n",
    "plt.show()"
   ]
  },
  {
   "cell_type": "code",
   "execution_count": null,
   "metadata": {},
   "outputs": [],
   "source": []
  }
 ],
 "metadata": {
  "kernelspec": {
   "display_name": "Python 3",
   "language": "python",
   "name": "python3"
  },
  "language_info": {
   "codemirror_mode": {
    "name": "ipython",
    "version": 3
   },
   "file_extension": ".py",
   "mimetype": "text/x-python",
   "name": "python",
   "nbconvert_exporter": "python",
   "pygments_lexer": "ipython3",
   "version": "3.7.4"
  }
 },
 "nbformat": 4,
 "nbformat_minor": 2
}
